{
 "cells": [
  {
   "cell_type": "code",
   "execution_count": null,
   "id": "26303962-20ca-4c43-a875-171c010561b5",
   "metadata": {},
   "outputs": [],
   "source": [
    "!mkdir work_dir\n",
    "!cd work_dir\n",
    "!wget https://huggingface.co/zhyever/PatchFusion/blob/main/DepthAnything_vitl.pt\n",
    "!wget https://huggingface.co/zhyever/PatchFusion/blob/main/DepthAnything_vitb.pt\n",
    "!wget https://huggingface.co/zhyever/PatchFusion/blob/main/DepthAnything_vits.pt\n",
    "!wget https://huggingface.co/zhyever/PatchFusion/blob/main/patchfusion_u4k.pt"
   ]
  },
  {
   "cell_type": "markdown",
   "id": "a3f1345e-20f9-44a7-bc2f-ca116a5dda8a",
   "metadata": {},
   "source": [
    "https://github.com/zhyever/PatchFusion/blob/main/docs/user_training.md#pre-trained-model-preparation"
   ]
  },
  {
   "cell_type": "code",
   "execution_count": null,
   "id": "f07db75e-7679-470d-88c1-0f446b45dcea",
   "metadata": {},
   "outputs": [],
   "source": []
  }
 ],
 "metadata": {
  "kernelspec": {
   "display_name": "Python 3 (ipykernel)",
   "language": "python",
   "name": "python3"
  },
  "language_info": {
   "codemirror_mode": {
    "name": "ipython",
    "version": 3
   },
   "file_extension": ".py",
   "mimetype": "text/x-python",
   "name": "python",
   "nbconvert_exporter": "python",
   "pygments_lexer": "ipython3",
   "version": "3.11.5"
  }
 },
 "nbformat": 4,
 "nbformat_minor": 5
}
